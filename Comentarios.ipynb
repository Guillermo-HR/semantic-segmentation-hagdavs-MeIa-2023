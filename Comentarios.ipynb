{
 "cells": [
  {
   "attachments": {},
   "cell_type": "markdown",
   "metadata": {},
   "source": [
    "# Propuesta de trabajo\n",
    "Debido al tiempo que tuvimos para desarrollar el proyecto y al nivel de conocimientos que tenemos del tema como equipo decidimos abordar el problema de la siguiente manera:\n",
    "1. Seleccionar 7 modelos de optimizacion para aplicar a nuestro problema\n",
    "2. seleccionar 2 tamaños de batch para cada modelo\n",
    "3. Fijar como numero de epocas 10 para cada modelo\n",
    "4. Comparar los resultados de cada modelo y seleccionar el mejor"
   ]
  },
  {
   "attachments": {},
   "cell_type": "markdown",
   "metadata": {},
   "source": [
    "#### Modelos seleccionados:\n",
    "1. SGD\n",
    "2.\n",
    "3.\n",
    "4.\n",
    "5.\n",
    "6.\n",
    "7."
   ]
  },
  {
   "attachments": {},
   "cell_type": "markdown",
   "metadata": {},
   "source": [
    "---\n",
    "## Observaciones de cada modelo"
   ]
  },
  {
   "attachments": {},
   "cell_type": "markdown",
   "metadata": {},
   "source": [
    "#### Modelo 0\n"
   ]
  },
  {
   "attachments": {},
   "cell_type": "markdown",
   "metadata": {},
   "source": [
    "#### SGD\n",
    "##### Tabla de entrenamiento\n",
    "Batch size = 16|![''](img/bs_16/Training_bs16_SGD_20min.png)\n",
    "-|-\n",
    "Batch size = 24|![''](img/bs_24/Training_bs24_SGD_13min.png)\n",
    "\n",
    "\n",
    "##### Tabla de resultados para SGD\n",
    "n|Input image|True Mask|Predicted Mask <br>batch size = 16|Predicted Mask batch <br>size = 24\n",
    "-|-|-|-|-\n",
    "1|![''](img/Input/1.png)|![''](img/True/1.png)|![''](img/bs_16/test/1.png)|![''](img/bs_24/test/1.png)\n",
    "2|![''](img/Input/2.png)|![''](img/True/2.png)|![''](img/bs_16/test/2.png)|![''](img/bs_24/test/2.png)\n",
    "3|![''](img/Input/3.png)|![''](img/True/3.png)|![''](img/bs_16/test/3.png)|![''](img/bs_24/test/3.png)\n",
    "4|![''](img/Input/4.png)|![''](img/True/4.png)|![''](img/bs_16/test/4.png)|![''](img/bs_24/test/4.png)\n",
    "5|![''](img/Input/5.png)|![''](img/True/5.png)|![''](img/bs_16/test/5.png)|![''](img/bs_24/test/5.png)\n",
    "6|![''](img/Input/6.png)|![''](img/True/6.png)|![''](img/bs_16/test/6.png)|![''](img/bs_24/test/6.png)\n",
    "7|![''](img/Input/7.png)|![''](img/True/7.png)|![''](img/bs_16/test/7.png)|![''](img/bs_24/test/7.png)\n",
    "8|![''](img/Input/8.png)|![''](img/True/8.png)|![''](img/bs_16/test/8.png)|![''](img/bs_24/test/8.png)\n",
    "9|![''](img/Input/9.png)|![''](img/True/9.png)|![''](img/bs_16/test/9.png)|![''](img/bs_24/test/9.png)\n",
    "10|![''](img/Input/10.png)|![''](img/True/10.png)|![''](img/bs_16/test/10.png)|![''](img/bs_24/test/10.png)\n",
    "\n"
   ]
  },
  {
   "attachments": {},
   "cell_type": "markdown",
   "metadata": {},
   "source": [
    "#### Modelo 2\n"
   ]
  },
  {
   "attachments": {},
   "cell_type": "markdown",
   "metadata": {},
   "source": [
    "#### Modelo 3\n"
   ]
  },
  {
   "attachments": {},
   "cell_type": "markdown",
   "metadata": {},
   "source": [
    "#### Modelo 4\n"
   ]
  },
  {
   "attachments": {},
   "cell_type": "markdown",
   "metadata": {},
   "source": [
    "#### Modelo 5\n"
   ]
  },
  {
   "attachments": {},
   "cell_type": "markdown",
   "metadata": {},
   "source": [
    "#### Modelo 6\n"
   ]
  },
  {
   "attachments": {},
   "cell_type": "markdown",
   "metadata": {},
   "source": [
    "#### Modelo 7\n"
   ]
  },
  {
   "attachments": {},
   "cell_type": "markdown",
   "metadata": {},
   "source": [
    "---\n",
    "## Comparacion de resultados\n"
   ]
  },
  {
   "attachments": {},
   "cell_type": "markdown",
   "metadata": {},
   "source": [
    "---\n",
    "## Conclusiones"
   ]
  },
  {
   "attachments": {},
   "cell_type": "markdown",
   "metadata": {},
   "source": [
    "---\n",
    "## Desarrolladores\n",
    "- Hernández Ruiz de Esparza Guillermo\n",
    "- \n",
    "- \n",
    "- \n",
    "- \n",
    "- \n",
    "- "
   ]
  }
 ],
 "metadata": {
  "language_info": {
   "name": "python"
  },
  "orig_nbformat": 4
 },
 "nbformat": 4,
 "nbformat_minor": 2
}
